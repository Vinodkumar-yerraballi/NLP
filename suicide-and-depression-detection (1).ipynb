{
 "cells": [
  {
   "cell_type": "code",
   "execution_count": 1,
   "metadata": {
    "execution": {
     "iopub.execute_input": "2023-04-19T09:16:01.056823Z",
     "iopub.status.busy": "2023-04-19T09:16:01.056246Z",
     "iopub.status.idle": "2023-04-19T09:16:02.505920Z",
     "shell.execute_reply": "2023-04-19T09:16:02.504520Z",
     "shell.execute_reply.started": "2023-04-19T09:16:01.056771Z"
    }
   },
   "outputs": [],
   "source": [
    "#Import standard librires\n",
    "import pandas as pd\n",
    "import numpy as np\n",
    "import seaborn as sns\n",
    "import matplotlib.pyplot as plt\n",
    "import warnings\n",
    "warnings.filterwarnings('ignore')"
   ]
  },
  {
   "cell_type": "code",
   "execution_count": 2,
   "metadata": {},
   "outputs": [
    {
     "name": "stdout",
     "output_type": "stream",
     "text": [
      "Skipping, found downloaded files in \".\\suicide-watch\" (use force=True to force download)\n"
     ]
    }
   ],
   "source": [
    "import opendatasets as od\n",
    "od.download('https://www.kaggle.com/datasets/nikhileswarkomati/suicide-watch')"
   ]
  },
  {
   "cell_type": "markdown",
   "metadata": {},
   "source": [
    "# Data Preprocessing process"
   ]
  },
  {
   "cell_type": "code",
   "execution_count": 3,
   "metadata": {
    "execution": {
     "iopub.execute_input": "2023-04-19T09:16:02.510925Z",
     "iopub.status.busy": "2023-04-19T09:16:02.509869Z",
     "iopub.status.idle": "2023-04-19T09:16:07.722195Z",
     "shell.execute_reply": "2023-04-19T09:16:07.720576Z",
     "shell.execute_reply.started": "2023-04-19T09:16:02.510854Z"
    }
   },
   "outputs": [
    {
     "data": {
      "text/html": [
       "<div>\n",
       "<style scoped>\n",
       "    .dataframe tbody tr th:only-of-type {\n",
       "        vertical-align: middle;\n",
       "    }\n",
       "\n",
       "    .dataframe tbody tr th {\n",
       "        vertical-align: top;\n",
       "    }\n",
       "\n",
       "    .dataframe thead th {\n",
       "        text-align: right;\n",
       "    }\n",
       "</style>\n",
       "<table border=\"1\" class=\"dataframe\">\n",
       "  <thead>\n",
       "    <tr style=\"text-align: right;\">\n",
       "      <th></th>\n",
       "      <th>Unnamed: 0</th>\n",
       "      <th>text</th>\n",
       "      <th>class</th>\n",
       "    </tr>\n",
       "  </thead>\n",
       "  <tbody>\n",
       "    <tr>\n",
       "      <th>0</th>\n",
       "      <td>2</td>\n",
       "      <td>Ex Wife Threatening SuicideRecently I left my ...</td>\n",
       "      <td>suicide</td>\n",
       "    </tr>\n",
       "    <tr>\n",
       "      <th>1</th>\n",
       "      <td>3</td>\n",
       "      <td>Am I weird I don't get affected by compliments...</td>\n",
       "      <td>non-suicide</td>\n",
       "    </tr>\n",
       "    <tr>\n",
       "      <th>2</th>\n",
       "      <td>4</td>\n",
       "      <td>Finally 2020 is almost over... So I can never ...</td>\n",
       "      <td>non-suicide</td>\n",
       "    </tr>\n",
       "    <tr>\n",
       "      <th>3</th>\n",
       "      <td>8</td>\n",
       "      <td>i need helpjust help me im crying so hard</td>\n",
       "      <td>suicide</td>\n",
       "    </tr>\n",
       "    <tr>\n",
       "      <th>4</th>\n",
       "      <td>9</td>\n",
       "      <td>I’m so lostHello, my name is Adam (16) and I’v...</td>\n",
       "      <td>suicide</td>\n",
       "    </tr>\n",
       "  </tbody>\n",
       "</table>\n",
       "</div>"
      ],
      "text/plain": [
       "   Unnamed: 0                                               text        class\n",
       "0           2  Ex Wife Threatening SuicideRecently I left my ...      suicide\n",
       "1           3  Am I weird I don't get affected by compliments...  non-suicide\n",
       "2           4  Finally 2020 is almost over... So I can never ...  non-suicide\n",
       "3           8          i need helpjust help me im crying so hard      suicide\n",
       "4           9  I’m so lostHello, my name is Adam (16) and I’v...      suicide"
      ]
     },
     "execution_count": 3,
     "metadata": {},
     "output_type": "execute_result"
    }
   ],
   "source": [
    "#load the dataset\n",
    "data=pd.read_csv('suicide-watch/Suicide_Detection.csv')\n",
    "data.head()"
   ]
  },
  {
   "cell_type": "markdown",
   "metadata": {},
   "source": []
  },
  {
   "cell_type": "code",
   "execution_count": 4,
   "metadata": {
    "execution": {
     "iopub.execute_input": "2023-04-19T09:16:07.724927Z",
     "iopub.status.busy": "2023-04-19T09:16:07.724509Z",
     "iopub.status.idle": "2023-04-19T09:16:07.801611Z",
     "shell.execute_reply": "2023-04-19T09:16:07.800096Z",
     "shell.execute_reply.started": "2023-04-19T09:16:07.724888Z"
    }
   },
   "outputs": [
    {
     "name": "stdout",
     "output_type": "stream",
     "text": [
      "<class 'pandas.core.frame.DataFrame'>\n",
      "RangeIndex: 232074 entries, 0 to 232073\n",
      "Data columns (total 3 columns):\n",
      " #   Column      Non-Null Count   Dtype \n",
      "---  ------      --------------   ----- \n",
      " 0   Unnamed: 0  232074 non-null  int64 \n",
      " 1   text        232074 non-null  object\n",
      " 2   class       232074 non-null  object\n",
      "dtypes: int64(1), object(2)\n",
      "memory usage: 5.3+ MB\n"
     ]
    }
   ],
   "source": [
    "data.info()"
   ]
  },
  {
   "cell_type": "code",
   "execution_count": 5,
   "metadata": {
    "execution": {
     "iopub.execute_input": "2023-04-19T09:16:07.806089Z",
     "iopub.status.busy": "2023-04-19T09:16:07.805418Z",
     "iopub.status.idle": "2023-04-19T09:16:07.821117Z",
     "shell.execute_reply": "2023-04-19T09:16:07.819555Z",
     "shell.execute_reply.started": "2023-04-19T09:16:07.806030Z"
    }
   },
   "outputs": [],
   "source": [
    "#Drop the unnamed column from the data\n",
    "data.drop(['Unnamed: 0'],axis=1,inplace=True)"
   ]
  },
  {
   "cell_type": "code",
   "execution_count": 6,
   "metadata": {
    "execution": {
     "iopub.execute_input": "2023-04-19T09:16:07.823349Z",
     "iopub.status.busy": "2023-04-19T09:16:07.822856Z",
     "iopub.status.idle": "2023-04-19T09:16:07.881713Z",
     "shell.execute_reply": "2023-04-19T09:16:07.880148Z",
     "shell.execute_reply.started": "2023-04-19T09:16:07.823298Z"
    }
   },
   "outputs": [
    {
     "data": {
      "text/plain": [
       "text     0.0\n",
       "class    0.0\n",
       "dtype: float64"
      ]
     },
     "execution_count": 6,
     "metadata": {},
     "output_type": "execute_result"
    }
   ],
   "source": [
    "'''Checking the null values in the dataset'''\n",
    "data.isna().sum()/len(data)*100\n"
   ]
  },
  {
   "cell_type": "code",
   "execution_count": 7,
   "metadata": {
    "execution": {
     "iopub.execute_input": "2023-04-19T09:16:07.884140Z",
     "iopub.status.busy": "2023-04-19T09:16:07.883638Z",
     "iopub.status.idle": "2023-04-19T09:16:08.144190Z",
     "shell.execute_reply": "2023-04-19T09:16:08.142146Z",
     "shell.execute_reply.started": "2023-04-19T09:16:07.884089Z"
    }
   },
   "outputs": [
    {
     "data": {
      "image/png": "[encoded data removed]",
      "text/plain": [
       "<Figure size 640x480 with 1 Axes>"
      ]
     },
     "metadata": {},
     "output_type": "display_data"
    }
   ],
   "source": [
    "'''Visualize the object columns in the data we use value_counts function once we recevied values\n",
    "we visualize the values using the pie charts'''\n",
    "data['class'].value_counts()\\\n",
    ".plot(kind='pie',explode=[0.01,0.05],labels=['suicide','non-suicide'],colors=['gray','yellow'],autopct='%1.2f%%',shadow=True,title=\"Visualization of suicide and non-suicide percentage\")\n",
    "plt.show()"
   ]
  },
  {
   "cell_type": "markdown",
   "metadata": {},
   "source": [
    "## Observations:\n",
    "##### 1) Form the the above chart the both lables are equal and data is balanced."
   ]
  },
  {
   "cell_type": "code",
   "execution_count": 84,
   "metadata": {
    "execution": {
     "iopub.execute_input": "2023-04-19T09:16:08.148391Z",
     "iopub.status.busy": "2023-04-19T09:16:08.147012Z",
     "iopub.status.idle": "2023-04-19T09:16:08.180332Z",
     "shell.execute_reply": "2023-04-19T09:16:08.178811Z",
     "shell.execute_reply.started": "2023-04-19T09:16:08.148272Z"
    }
   },
   "outputs": [
    {
     "data": {
      "text/plain": [
       "(100000, 2)"
      ]
     },
     "execution_count": 84,
     "metadata": {},
     "output_type": "execute_result"
    }
   ],
   "source": [
    "'''We take 20000 text for machine learning models.\n",
    "when we run the entire model our system will be slow becuase it's run cpu and take too much time '''\n",
    "sample=data.sample(n=100000)\n",
    "sample.shape"
   ]
  },
  {
   "cell_type": "markdown",
   "metadata": {},
   "source": [
    "# Data Cleaning Process"
   ]
  },
  {
   "cell_type": "code",
   "execution_count": 85,
   "metadata": {
    "execution": {
     "iopub.execute_input": "2023-04-19T09:28:46.502997Z",
     "iopub.status.busy": "2023-04-19T09:28:46.502408Z",
     "iopub.status.idle": "2023-04-19T09:28:46.515855Z",
     "shell.execute_reply": "2023-04-19T09:28:46.514185Z",
     "shell.execute_reply.started": "2023-04-19T09:28:46.502943Z"
    }
   },
   "outputs": [
    {
     "name": "stderr",
     "output_type": "stream",
     "text": [
      "[nltk_data] Downloading package stopwords to\n",
      "[nltk_data]     C:\\Users\\Admin\\AppData\\Roaming\\nltk_data...\n",
      "[nltk_data]   Package stopwords is already up-to-date!\n"
     ]
    }
   ],
   "source": [
    "# we do the nlp process we install necessary libraries for all required process\n",
    "import nltk\n",
    "nltk.download('stopwords')\n",
    "from nltk.corpus import stopwords\n",
    "from nltk.stem import WordNetLemmatizer\n",
    "from nltk.tokenize import word_tokenize\n",
    "from nltk.stem.snowball import SnowballStemmer\n",
    "import wordcloud\n",
    "import re"
   ]
  },
  {
   "cell_type": "code",
   "execution_count": 86,
   "metadata": {
    "execution": {
     "iopub.execute_input": "2023-04-19T09:28:48.420219Z",
     "iopub.status.busy": "2023-04-19T09:28:48.419796Z",
     "iopub.status.idle": "2023-04-19T09:28:48.433950Z",
     "shell.execute_reply": "2023-04-19T09:28:48.432711Z",
     "shell.execute_reply.started": "2023-04-19T09:28:48.420183Z"
    }
   },
   "outputs": [
    {
     "data": {
      "text/html": [
       "<div>\n",
       "<style scoped>\n",
       "    .dataframe tbody tr th:only-of-type {\n",
       "        vertical-align: middle;\n",
       "    }\n",
       "\n",
       "    .dataframe tbody tr th {\n",
       "        vertical-align: top;\n",
       "    }\n",
       "\n",
       "    .dataframe thead th {\n",
       "        text-align: right;\n",
       "    }\n",
       "</style>\n",
       "<table border=\"1\" class=\"dataframe\">\n",
       "  <thead>\n",
       "    <tr style=\"text-align: right;\">\n",
       "      <th></th>\n",
       "      <th>text</th>\n",
       "      <th>class</th>\n",
       "    </tr>\n",
       "  </thead>\n",
       "  <tbody>\n",
       "    <tr>\n",
       "      <th>31655</th>\n",
       "      <td>I come for information Do people of French dis...</td>\n",
       "      <td>non-suicide</td>\n",
       "    </tr>\n",
       "  </tbody>\n",
       "</table>\n",
       "</div>"
      ],
      "text/plain": [
       "                                                    text        class\n",
       "31655  I come for information Do people of French dis...  non-suicide"
      ]
     },
     "execution_count": 86,
     "metadata": {},
     "output_type": "execute_result"
    }
   ],
   "source": [
    "sample.head(1)"
   ]
  },
  {
   "cell_type": "code",
   "execution_count": 87,
   "metadata": {
    "execution": {
     "iopub.execute_input": "2023-04-19T09:35:38.274406Z",
     "iopub.status.busy": "2023-04-19T09:35:38.273588Z",
     "iopub.status.idle": "2023-04-19T09:35:38.290200Z",
     "shell.execute_reply": "2023-04-19T09:35:38.288830Z",
     "shell.execute_reply.started": "2023-04-19T09:35:38.274348Z"
    }
   },
   "outputs": [
    {
     "data": {
      "text/plain": [
       "\"I give up i just dont see the point any more, my life is going nowhere.  I fail at everything I do.  I'm 32 years old and i have never even kissed a girl.  I feel like the world would be better off without me.  \""
      ]
     },
     "execution_count": 87,
     "metadata": {},
     "output_type": "execute_result"
    }
   ],
   "source": [
    "# we take the sample question for relate to suicide \n",
    "q1=sample[sample['class']=='suicide']\n",
    "q2=q1.text.values[0]\n",
    "q2"
   ]
  },
  {
   "cell_type": "code",
   "execution_count": 88,
   "metadata": {
    "execution": {
     "iopub.execute_input": "2023-04-19T09:28:49.906941Z",
     "iopub.status.busy": "2023-04-19T09:28:49.906480Z",
     "iopub.status.idle": "2023-04-19T09:28:50.793293Z",
     "shell.execute_reply": "2023-04-19T09:28:50.792235Z",
     "shell.execute_reply.started": "2023-04-19T09:28:49.906899Z"
    }
   },
   "outputs": [],
   "source": [
    "'''\n",
    "Cleaning the text data using the regex librarys,first we covert the string into lower\n",
    "and then replce the unwanted items and finally join the text,and apply the function to \n",
    "the text data\n",
    "\n",
    "'''\n",
    "def cleaning_text(text):\n",
    "    text=text.lower()\n",
    "    text=re.sub(r'[^\\w\\s]','',text)\n",
    "    text=re.sub(r'\\d+','',text)\n",
    "    text=re.sub(r'\\n\\n','',text)\n",
    "    text=re.sub('[^A-Za-z0-9 ]+', '', text)\n",
    "    text=re.sub(r\"[-()\\\"#/@;:<>{}`+=~|*.!?,]\", \"\", text)\n",
    "    text=''.join(text)\n",
    "    return text\n",
    "sample['text']=sample['text'].apply(cleaning_text)"
   ]
  },
  {
   "cell_type": "code",
   "execution_count": 89,
   "metadata": {},
   "outputs": [
    {
     "data": {
      "text/plain": [
       "\"I give up i just dont see the point any more, my life is going nowhere.  I fail at everything I do.  I'm 32 years old and i have never even kissed a girl.  I feel like the world would be better off without me.  \""
      ]
     },
     "execution_count": 89,
     "metadata": {},
     "output_type": "execute_result"
    }
   ],
   "source": [
    "q2"
   ]
  },
  {
   "cell_type": "markdown",
   "metadata": {},
   "source": [
    "# Tokenization process for the sample question"
   ]
  },
  {
   "cell_type": "code",
   "execution_count": 90,
   "metadata": {
    "execution": {
     "iopub.execute_input": "2023-04-19T09:28:51.093063Z",
     "iopub.status.busy": "2023-04-19T09:28:51.092626Z",
     "iopub.status.idle": "2023-04-19T09:28:51.108064Z",
     "shell.execute_reply": "2023-04-19T09:28:51.107030Z",
     "shell.execute_reply.started": "2023-04-19T09:28:51.093026Z"
    }
   },
   "outputs": [
    {
     "data": {
      "text/plain": [
       "['I',\n",
       " 'give',\n",
       " 'up',\n",
       " 'i',\n",
       " 'just',\n",
       " 'dont',\n",
       " 'see',\n",
       " 'the',\n",
       " 'point',\n",
       " 'any',\n",
       " 'more',\n",
       " ',',\n",
       " 'my',\n",
       " 'life',\n",
       " 'is',\n",
       " 'going',\n",
       " 'nowhere',\n",
       " '.',\n",
       " 'I',\n",
       " 'fail',\n",
       " 'at',\n",
       " 'everything',\n",
       " 'I',\n",
       " 'do',\n",
       " '.',\n",
       " 'I',\n",
       " \"'m\",\n",
       " '32',\n",
       " 'years',\n",
       " 'old',\n",
       " 'and',\n",
       " 'i',\n",
       " 'have',\n",
       " 'never',\n",
       " 'even',\n",
       " 'kissed',\n",
       " 'a',\n",
       " 'girl',\n",
       " '.',\n",
       " 'I',\n",
       " 'feel',\n",
       " 'like',\n",
       " 'the',\n",
       " 'world',\n",
       " 'would',\n",
       " 'be',\n",
       " 'better',\n",
       " 'off',\n",
       " 'without',\n",
       " 'me',\n",
       " '.']"
      ]
     },
     "execution_count": 90,
     "metadata": {},
     "output_type": "execute_result"
    }
   ],
   "source": [
    "sample_question=word_tokenize(q2)\n",
    "sample_question"
   ]
  },
  {
   "cell_type": "markdown",
   "metadata": {},
   "source": [
    "# Remove the stopwords in the sample data.These words do not really signify any importance as they do not help in distinguishing two documents"
   ]
  },
  {
   "cell_type": "code",
   "execution_count": 91,
   "metadata": {
    "execution": {
     "iopub.execute_input": "2023-04-19T09:28:52.287299Z",
     "iopub.status.busy": "2023-04-19T09:28:52.286630Z",
     "iopub.status.idle": "2023-04-19T09:28:52.295802Z",
     "shell.execute_reply": "2023-04-19T09:28:52.294615Z",
     "shell.execute_reply.started": "2023-04-19T09:28:52.287261Z"
    }
   },
   "outputs": [
    {
     "data": {
      "text/plain": [
       "\"i,me,my,myself,we,our,ours,ourselves,you,you're,you've,you'll,you'd,your,yours,yourself,yourselves,he,him,his,himself,she,she's,her,hers,herself,it,it's,its,itself,they,them,their,theirs,themselves,what,which,who,whom,this,that,that'll,these,those,am,is,are,was,were,be,been,being,have,has,had,having,do,does,did,doing,a,an,the,and,but,if,or,because,as,until,while,of,at,by,for,with,about,against,between,into,through,during,before,after,above,below,to,from,up,down,in,out,on,off,over,under,again,further,then,once,here,there,when,where,why,how,all,any,both,each,few,more,most,other,some,such,no,nor,not,only,own,same,so,than,too,very,s,t,can,will,just,don,don't,should,should've,now,d,ll,m,o,re,ve,y,ain,aren,aren't,couldn,couldn't,didn,didn't,doesn,doesn't,hadn,hadn't,hasn,hasn't,haven,haven't,isn,isn't,ma,mightn,mightn't,mustn,mustn't,needn,needn't,shan,shan't,shouldn,shouldn't,wasn,wasn't,weren,weren't,won,won't,wouldn,wouldn't\""
      ]
     },
     "execution_count": 91,
     "metadata": {},
     "output_type": "execute_result"
    }
   ],
   "source": [
    "'''We remove the stop word in the data it's very important clean the stopwords  '''\n",
    "english_word=stopwords.words('english')\n",
    "\",\".join(english_word)"
   ]
  },
  {
   "cell_type": "code",
   "execution_count": 92,
   "metadata": {
    "execution": {
     "iopub.execute_input": "2023-04-19T09:28:53.269268Z",
     "iopub.status.busy": "2023-04-19T09:28:53.268469Z",
     "iopub.status.idle": "2023-04-19T09:28:53.277288Z",
     "shell.execute_reply": "2023-04-19T09:28:53.275957Z",
     "shell.execute_reply.started": "2023-04-19T09:28:53.269210Z"
    }
   },
   "outputs": [
    {
     "data": {
      "text/plain": [
       "\"I give up i just dont see the point any more, my life is going nowhere.  I fail at everything I do.  I'm 32 years old and i have never even kissed a girl.  I feel like the world would be better off without me.  \""
      ]
     },
     "execution_count": 92,
     "metadata": {},
     "output_type": "execute_result"
    }
   ],
   "source": [
    "q2"
   ]
  },
  {
   "cell_type": "code",
   "execution_count": 93,
   "metadata": {
    "execution": {
     "iopub.execute_input": "2023-04-19T09:28:53.889585Z",
     "iopub.status.busy": "2023-04-19T09:28:53.888352Z",
     "iopub.status.idle": "2023-04-19T09:28:53.901009Z",
     "shell.execute_reply": "2023-04-19T09:28:53.899703Z",
     "shell.execute_reply.started": "2023-04-19T09:28:53.889509Z"
    }
   },
   "outputs": [
    {
     "data": {
      "text/plain": [
       "['give',\n",
       " 'dont',\n",
       " 'see',\n",
       " 'point',\n",
       " ',',\n",
       " 'life',\n",
       " 'going',\n",
       " 'nowhere',\n",
       " '.',\n",
       " 'fail',\n",
       " 'everything',\n",
       " '.',\n",
       " \"'m\",\n",
       " '32',\n",
       " 'years',\n",
       " 'old',\n",
       " 'never',\n",
       " 'even',\n",
       " 'kissed',\n",
       " 'girl',\n",
       " '.',\n",
       " 'feel',\n",
       " 'like',\n",
       " 'world',\n",
       " 'would',\n",
       " 'better',\n",
       " 'without',\n",
       " '.']"
      ]
     },
     "execution_count": 93,
     "metadata": {},
     "output_type": "execute_result"
    }
   ],
   "source": [
    "'''\n",
    "We create a fuction that remove the all the stopwords.\n",
    "in the loop  if word in the text the these word convert to lower\n",
    "and it's not in the stopwords once we creat the function then we apply the\n",
    "sample question in the data\n",
    "\n",
    "'''\n",
    "def remove_stopwords(text):\n",
    "    return [word for word in text if word.lower() not in english_word]\n",
    "question_remove_stopwords=remove_stopwords(sample_question)\n",
    "question_remove_stopwords"
   ]
  },
  {
   "cell_type": "markdown",
   "metadata": {},
   "source": [
    "# Stemming Process using SnowballStemmer"
   ]
  },
  {
   "cell_type": "code",
   "execution_count": 94,
   "metadata": {
    "execution": {
     "iopub.execute_input": "2023-04-19T09:28:55.549041Z",
     "iopub.status.busy": "2023-04-19T09:28:55.547598Z",
     "iopub.status.idle": "2023-04-19T09:28:55.563124Z",
     "shell.execute_reply": "2023-04-19T09:28:55.561753Z",
     "shell.execute_reply.started": "2023-04-19T09:28:55.548991Z"
    }
   },
   "outputs": [
    {
     "data": {
      "text/plain": [
       "['give',\n",
       " 'dont',\n",
       " 'see',\n",
       " 'point',\n",
       " ',',\n",
       " 'life',\n",
       " 'go',\n",
       " 'nowher',\n",
       " '.',\n",
       " 'fail',\n",
       " 'everyth',\n",
       " '.',\n",
       " \"'m\",\n",
       " '32',\n",
       " 'year',\n",
       " 'old',\n",
       " 'never',\n",
       " 'even',\n",
       " 'kiss',\n",
       " 'girl',\n",
       " '.',\n",
       " 'feel',\n",
       " 'like',\n",
       " 'world',\n",
       " 'would',\n",
       " 'better',\n",
       " 'without',\n",
       " '.']"
      ]
     },
     "execution_count": 94,
     "metadata": {},
     "output_type": "execute_result"
    }
   ],
   "source": [
    "'''\n",
    "Create a stemmer using the snowballstemmer\n",
    "we create a stemming process after remove the stemmer\n",
    "'''\n",
    "snowball=SnowballStemmer(language='english')\n",
    "snow=[snowball.stem(word) for word in question_remove_stopwords]\n",
    "snow"
   ]
  },
  {
   "cell_type": "code",
   "execution_count": 95,
   "metadata": {
    "execution": {
     "iopub.execute_input": "2023-04-19T09:28:56.162583Z",
     "iopub.status.busy": "2023-04-19T09:28:56.161841Z",
     "iopub.status.idle": "2023-04-19T09:28:56.169047Z",
     "shell.execute_reply": "2023-04-19T09:28:56.167313Z",
     "shell.execute_reply.started": "2023-04-19T09:28:56.162542Z"
    }
   },
   "outputs": [],
   "source": [
    "#create a function for stemmimg using snowballstemmer\n",
    "def stemming(text):\n",
    "    snow=SnowballStemmer(languge='english')\n",
    "    snow=[snow.stem(word) for word in text]\n",
    "    snow=''.join(snow)\n",
    "    return snow\n"
   ]
  },
  {
   "cell_type": "markdown",
   "metadata": {},
   "source": [
    "# Lemmatization Process:"
   ]
  },
  {
   "cell_type": "code",
   "execution_count": 96,
   "metadata": {
    "execution": {
     "iopub.execute_input": "2023-04-19T09:43:16.747071Z",
     "iopub.status.busy": "2023-04-19T09:43:16.745795Z",
     "iopub.status.idle": "2023-04-19T09:43:16.790109Z",
     "shell.execute_reply": "2023-04-19T09:43:16.788167Z",
     "shell.execute_reply.started": "2023-04-19T09:43:16.747026Z"
    }
   },
   "outputs": [
    {
     "data": {
      "text/plain": [
       "\"I give up i just dont see the point any more, my life is going nowhere.  I fail at everything I do.  I'm 32 years old and i have never even kissed a girl.  I feel like the world would be better off without me.  \""
      ]
     },
     "execution_count": 96,
     "metadata": {},
     "output_type": "execute_result"
    }
   ],
   "source": [
    "lemmatizer = WordNetLemmatizer()\n",
    "q1_lem=lemmatizer.lemmatize(q2)\n",
    "q1_lem"
   ]
  },
  {
   "cell_type": "code",
   "execution_count": 97,
   "metadata": {},
   "outputs": [],
   "source": [
    "#Let's apply all methods to the data\n",
    "def text_preprocessing(text):\n",
    "    #Word_tokenize\n",
    "    words=word_tokenize(text)\n",
    "    #Stop words removeble\n",
    "    words=[word for word in words if word not in english_word]\n",
    "    #Stemming process\n",
    "    words=[snowball.stem(word) for word in words]\n",
    "    #Lmmmatization\n",
    "    words=[lemmatizer.lemmatize(word) for word in words]\n",
    "    # Convert all words to lowercase\n",
    "    words = [word.lower() for word in words]\n",
    "    words=''.join(words)\n",
    "    return words\n",
    "sample['text']=sample['text'].apply(text_preprocessing)"
   ]
  },
  {
   "cell_type": "code",
   "execution_count": 98,
   "metadata": {},
   "outputs": [
    {
     "data": {
      "text/html": [
       "<div>\n",
       "<style scoped>\n",
       "    .dataframe tbody tr th:only-of-type {\n",
       "        vertical-align: middle;\n",
       "    }\n",
       "\n",
       "    .dataframe tbody tr th {\n",
       "        vertical-align: top;\n",
       "    }\n",
       "\n",
       "    .dataframe thead th {\n",
       "        text-align: right;\n",
       "    }\n",
       "</style>\n",
       "<table border=\"1\" class=\"dataframe\">\n",
       "  <thead>\n",
       "    <tr style=\"text-align: right;\">\n",
       "      <th></th>\n",
       "      <th>text</th>\n",
       "      <th>class</th>\n",
       "    </tr>\n",
       "  </thead>\n",
       "  <tbody>\n",
       "    <tr>\n",
       "      <th>31655</th>\n",
       "      <td>comeinformpeoplfrenchdissentfindpepelepewinsul...</td>\n",
       "      <td>non-suicide</td>\n",
       "    </tr>\n",
       "    <tr>\n",
       "      <th>136032</th>\n",
       "      <td>onespeaksecondarearaidwondermanipeoplstillgo</td>\n",
       "      <td>non-suicide</td>\n",
       "    </tr>\n",
       "    <tr>\n",
       "      <th>130644</th>\n",
       "      <td>stillmissexseriousbrokeyearagostillcantgetmatt...</td>\n",
       "      <td>non-suicide</td>\n",
       "    </tr>\n",
       "    <tr>\n",
       "      <th>20102</th>\n",
       "      <td>posteveridayenddaycamelfavoritdayhumpdaygreatd...</td>\n",
       "      <td>non-suicide</td>\n",
       "    </tr>\n",
       "    <tr>\n",
       "      <th>170800</th>\n",
       "      <td>yalllikewishcrushlikewishcrushfucku</td>\n",
       "      <td>non-suicide</td>\n",
       "    </tr>\n",
       "  </tbody>\n",
       "</table>\n",
       "</div>"
      ],
      "text/plain": [
       "                                                     text        class\n",
       "31655   comeinformpeoplfrenchdissentfindpepelepewinsul...  non-suicide\n",
       "136032       onespeaksecondarearaidwondermanipeoplstillgo  non-suicide\n",
       "130644  stillmissexseriousbrokeyearagostillcantgetmatt...  non-suicide\n",
       "20102   posteveridayenddaycamelfavoritdayhumpdaygreatd...  non-suicide\n",
       "170800                yalllikewishcrushlikewishcrushfucku  non-suicide"
      ]
     },
     "execution_count": 98,
     "metadata": {},
     "output_type": "execute_result"
    }
   ],
   "source": [
    "sample.head()"
   ]
  },
  {
   "cell_type": "markdown",
   "metadata": {},
   "source": [
    "# Machine Learning Model"
   ]
  },
  {
   "cell_type": "code",
   "execution_count": 99,
   "metadata": {},
   "outputs": [],
   "source": [
    "X=sample.drop(['class'],axis=1)\n",
    "y=sample['class']"
   ]
  },
  {
   "cell_type": "code",
   "execution_count": 100,
   "metadata": {},
   "outputs": [],
   "source": [
    "#Machinelearning libaries\n",
    "from sklearn.model_selection import train_test_split\n",
    "from sklearn.linear_model import LogisticRegression\n",
    "from sklearn.metrics import accuracy_score,classification_report,confusion_matrix\n",
    "from sklearn.feature_extraction.text import CountVectorizer\n",
    "from sklearn.tree import DecisionTreeClassifier\n",
    "from sklearn.ensemble import RandomForestClassifier\n",
    "from sklearn.neighbors import KNeighborsClassifier"
   ]
  },
  {
   "cell_type": "code",
   "execution_count": 101,
   "metadata": {},
   "outputs": [
    {
     "data": {
      "text/plain": [
       "CountVectorizer()"
      ]
     },
     "execution_count": 101,
     "metadata": {},
     "output_type": "execute_result"
    }
   ],
   "source": [
    "count=CountVectorizer()\n",
    "count.fit(sample.text)"
   ]
  },
  {
   "cell_type": "code",
   "execution_count": 102,
   "metadata": {},
   "outputs": [
    {
     "data": {
      "text/plain": [
       "array([[0, 0, 0, ..., 0, 0, 0],\n",
       "       [0, 0, 0, ..., 0, 0, 0],\n",
       "       [0, 0, 0, ..., 0, 0, 0],\n",
       "       ...,\n",
       "       [0, 0, 0, ..., 0, 0, 0],\n",
       "       [0, 0, 0, ..., 0, 0, 0],\n",
       "       [0, 0, 0, ..., 0, 0, 0]], dtype=int64)"
      ]
     },
     "execution_count": 102,
     "metadata": {},
     "output_type": "execute_result"
    }
   ],
   "source": [
    "def tokenize(text):\n",
    "    return [snowball.stem(word) for word in word_tokenize(text)]\n",
    "count=CountVectorizer(lowercase=True,tokenizer=tokenize,stop_words=english_word,max_features=1000)\n",
    "count.fit(sample.text)\n",
    "X=count.transform(sample.text)\n",
    "X.toarray()"
   ]
  },
  {
   "cell_type": "code",
   "execution_count": 103,
   "metadata": {},
   "outputs": [],
   "source": [
    "# Divided the data into trainig and testing purpose\n",
    "X_train,X_test,y_train,y_test=train_test_split(X,y,test_size=0.30,random_state=42)"
   ]
  },
  {
   "cell_type": "code",
   "execution_count": 104,
   "metadata": {},
   "outputs": [],
   "source": [
    "#Applied for Machine Learing alogrithms \n",
    "def model_predict(model,X_train,X_test,y_train,y_test):\n",
    "    model.fit(X_train,y_train)\n",
    "    y_pred=model.predict(X_test)\n",
    "    print(f'The {model} accuracy score is {accuracy_score(y_test,y_pred)*100:.2f}')\n",
    "    print(f'{model} classification_model {classification_report(y_test,y_pred)}')\n",
    "    print(f'{model} confusion_matrix {confusion_matrix(y_test,y_pred)} ')\n",
    "    sns.heatmap(confusion_matrix(y_test,y_pred),annot=True,cmap='winter_r')"
   ]
  },
  {
   "cell_type": "code",
   "execution_count": 105,
   "metadata": {},
   "outputs": [
    {
     "name": "stdout",
     "output_type": "stream",
     "text": [
      "The LogisticRegression() accuracy score is 49.97\n",
      "LogisticRegression() classification_model               precision    recall  f1-score   support\n",
      "\n",
      " non-suicide       1.00      0.00      0.00     15038\n",
      "     suicide       0.50      1.00      0.67     14962\n",
      "\n",
      "    accuracy                           0.50     30000\n",
      "   macro avg       0.75      0.50      0.33     30000\n",
      "weighted avg       0.75      0.50      0.33     30000\n",
      "\n",
      "LogisticRegression() confusion_matrix [[   30 15008]\n",
      " [    0 14962]] \n"
     ]
    },
    {
     "data": {
      "image/png": "[encoded data removed]",
      "text/plain": [
       "<Figure size 640x480 with 2 Axes>"
      ]
     },
     "metadata": {},
     "output_type": "display_data"
    }
   ],
   "source": [
    "#LogisticRegression model\n",
    "liner=LogisticRegression()\n",
    "model_predict(liner,X_train,X_test,y_train,y_test)"
   ]
  },
  {
   "cell_type": "code",
   "execution_count": 106,
   "metadata": {},
   "outputs": [
    {
     "name": "stdout",
     "output_type": "stream",
     "text": [
      "The RandomForestClassifier() accuracy score is 49.97\n",
      "RandomForestClassifier() classification_model               precision    recall  f1-score   support\n",
      "\n",
      " non-suicide       1.00      0.00      0.00     15038\n",
      "     suicide       0.50      1.00      0.67     14962\n",
      "\n",
      "    accuracy                           0.50     30000\n",
      "   macro avg       0.75      0.50      0.33     30000\n",
      "weighted avg       0.75      0.50      0.33     30000\n",
      "\n",
      "RandomForestClassifier() confusion_matrix [[   30 15008]\n",
      " [    0 14962]] \n"
     ]
    },
    {
     "data": {
      "image/png": "[encoded data removed]",
      "text/plain": [
       "<Figure size 640x480 with 2 Axes>"
      ]
     },
     "metadata": {},
     "output_type": "display_data"
    }
   ],
   "source": [
    "#RandomForestClassifier\n",
    "model_predict(RandomForestClassifier(),X_train,X_test,y_train,y_test)"
   ]
  },
  {
   "cell_type": "code",
   "execution_count": 107,
   "metadata": {},
   "outputs": [
    {
     "name": "stdout",
     "output_type": "stream",
     "text": [
      "The DecisionTreeClassifier() accuracy score is 49.97\n",
      "DecisionTreeClassifier() classification_model               precision    recall  f1-score   support\n",
      "\n",
      " non-suicide       1.00      0.00      0.00     15038\n",
      "     suicide       0.50      1.00      0.67     14962\n",
      "\n",
      "    accuracy                           0.50     30000\n",
      "   macro avg       0.75      0.50      0.33     30000\n",
      "weighted avg       0.75      0.50      0.33     30000\n",
      "\n",
      "DecisionTreeClassifier() confusion_matrix [[   30 15008]\n",
      " [    0 14962]] \n"
     ]
    },
    {
     "data": {
      "image/png": "[encoded data removed]",
      "text/plain": [
       "<Figure size 640x480 with 2 Axes>"
      ]
     },
     "metadata": {},
     "output_type": "display_data"
    }
   ],
   "source": [
    "model_predict(DecisionTreeClassifier(),X_train,X_test,y_train,y_test)"
   ]
  },
  {
   "cell_type": "code",
   "execution_count": 108,
   "metadata": {},
   "outputs": [
    {
     "name": "stdout",
     "output_type": "stream",
     "text": [
      "The KNeighborsClassifier() accuracy score is 49.95\n",
      "KNeighborsClassifier() classification_model               precision    recall  f1-score   support\n",
      "\n",
      " non-suicide       0.89      0.00      0.00     15038\n",
      "     suicide       0.50      1.00      0.67     14962\n",
      "\n",
      "    accuracy                           0.50     30000\n",
      "   macro avg       0.70      0.50      0.33     30000\n",
      "weighted avg       0.70      0.50      0.33     30000\n",
      "\n",
      "KNeighborsClassifier() confusion_matrix [[   25 15013]\n",
      " [    3 14959]] \n"
     ]
    },
    {
     "data": {
      "image/png": "[encoded data removed]",
      "text/plain": [
       "<Figure size 640x480 with 2 Axes>"
      ]
     },
     "metadata": {},
     "output_type": "display_data"
    }
   ],
   "source": [
    "model_predict(KNeighborsClassifier(),X_train,X_test,y_train,y_test)"
   ]
  },
  {
   "cell_type": "code",
   "execution_count": null,
   "metadata": {},
   "outputs": [],
   "source": []
  }
 ],
 "metadata": {
  "kernelspec": {
   "display_name": "Python 3 (ipykernel)",
   "language": "python",
   "name": "python3"
  },
  "language_info": {
   "codemirror_mode": {
    "name": "ipython",
    "version": 3
   },
   "file_extension": ".py",
   "mimetype": "text/x-python",
   "name": "python",
   "nbconvert_exporter": "python",
   "pygments_lexer": "ipython3",
   "version": "3.9.13"
  }
 },
 "nbformat": 4,
 "nbformat_minor": 4
}
